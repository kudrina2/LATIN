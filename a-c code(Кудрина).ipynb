{
 "cells": [
  {
   "cell_type": "code",
   "execution_count": 1,
   "metadata": {},
   "outputs": [],
   "source": [
    "import nltk\n",
    "from nltk.tokenize import word_tokenize\n",
    "from cltk.corpus.utils.importer import CorpusImporter\n",
    "corpus_importer = CorpusImporter('latin')\n",
    "corpus_importer.import_corpus('latin_models_cltk')\n",
    "from cltk.lemmatize.latin.backoff import BackoffLatinLemmatizer\n",
    "import os"
   ]
  },
  {
   "cell_type": "code",
   "execution_count": 2,
   "metadata": {},
   "outputs": [],
   "source": [
    "prose = (os.listdir(r\"C:\\Users\\User\\Desktop\\нис\\prose\"))\n",
    "poetry = (os.listdir(r\"C:\\Users\\User\\Desktop\\нис\\poetry\"))"
   ]
  },
  {
   "cell_type": "code",
   "execution_count": 3,
   "metadata": {},
   "outputs": [],
   "source": [
    "a = 0\n",
    "c = 0\n",
    "total = 0\n",
    "total_pr = 0\n",
    "total_poet = 0"
   ]
  },
  {
   "cell_type": "code",
   "execution_count": 4,
   "metadata": {},
   "outputs": [],
   "source": [
    "for i in range(len(prose)):\n",
    "    with open(prose[i], 'r', encoding='utf-8') as f:\n",
    "        text = f.read()\n",
    "    words = [w.lower() for w in word_tokenize(text) if w.isalpha()]\n",
    "    lemmatizer = BackoffLatinLemmatizer()\n",
    "    spisok = lemmatizer.lemmatize(words)\n",
    "    for i in range(len(spisok)):\n",
    "        if 'albus' in spisok[i]:\n",
    "            a = a + 1\n",
    "        elif 'candidus' in spisok[i]:\n",
    "            c = c + 1\n",
    "    total= total + len(words)\n",
    "    total_pr= total_pr +len(words)"
   ]
  },
  {
   "cell_type": "code",
   "execution_count": 5,
   "metadata": {},
   "outputs": [],
   "source": [
    "c2 = 0\n",
    "a2 = 0"
   ]
  },
  {
   "cell_type": "code",
   "execution_count": 6,
   "metadata": {},
   "outputs": [],
   "source": [
    "for i in range(len(poetry)):\n",
    "    with open(poetry[i], 'r', encoding='utf-8') as f:\n",
    "        text = f.read()\n",
    "    words = [w.lower() for w in word_tokenize(text) if w.isalpha()]\n",
    "    lemmatizer = BackoffLatinLemmatizer()\n",
    "    spisok2 = lemmatizer.lemmatize(words)\n",
    "    for i in range(len(spisok2)):\n",
    "        if 'albus' in spisok2[i]:\n",
    "            a2 = a2 + 1\n",
    "        elif 'candidus' in spisok2[i]:\n",
    "            c2 = c2 + 1\n",
    "    total= total + len(words)\n",
    "    total_poet= total_poet +len(words)"
   ]
  },
  {
   "cell_type": "code",
   "execution_count": 21,
   "metadata": {},
   "outputs": [],
   "source": [
    "import pandas as pd"
   ]
  },
  {
   "cell_type": "code",
   "execution_count": 34,
   "metadata": {},
   "outputs": [
    {
     "data": {
      "text/html": [
       "<div>\n",
       "<style scoped>\n",
       "    .dataframe tbody tr th:only-of-type {\n",
       "        vertical-align: middle;\n",
       "    }\n",
       "\n",
       "    .dataframe tbody tr th {\n",
       "        vertical-align: top;\n",
       "    }\n",
       "\n",
       "    .dataframe thead th {\n",
       "        text-align: right;\n",
       "    }\n",
       "</style>\n",
       "<table border=\"1\" class=\"dataframe\">\n",
       "  <thead>\n",
       "    <tr style=\"text-align: right;\">\n",
       "      <th></th>\n",
       "      <th>words</th>\n",
       "      <th>number</th>\n",
       "      <th>ipm</th>\n",
       "    </tr>\n",
       "  </thead>\n",
       "  <tbody>\n",
       "    <tr>\n",
       "      <th>0</th>\n",
       "      <td>total</td>\n",
       "      <td>1638250</td>\n",
       "      <td></td>\n",
       "    </tr>\n",
       "    <tr>\n",
       "      <th>1</th>\n",
       "      <td>albus</td>\n",
       "      <td>43</td>\n",
       "      <td>26.2475</td>\n",
       "    </tr>\n",
       "    <tr>\n",
       "      <th>2</th>\n",
       "      <td>candidus</td>\n",
       "      <td>31</td>\n",
       "      <td>18.9226</td>\n",
       "    </tr>\n",
       "  </tbody>\n",
       "</table>\n",
       "</div>"
      ],
      "text/plain": [
       "      words   number      ipm\n",
       "0     total  1638250         \n",
       "1     albus       43  26.2475\n",
       "2  candidus       31  18.9226"
      ]
     },
     "execution_count": 34,
     "metadata": {},
     "output_type": "execute_result"
    }
   ],
   "source": [
    "prose_dict = {'words': ['total', 'albus', 'candidus'], 'number': [total_pr, a, c], 'ipm': ['', (a/total_pr)*1000000, (c/total_pr)*1000000]}\n",
    "prose_df = pd.DataFrame(prose_dict)\n",
    "\n",
    "prose_df"
   ]
  },
  {
   "cell_type": "code",
   "execution_count": 33,
   "metadata": {},
   "outputs": [
    {
     "data": {
      "text/html": [
       "<div>\n",
       "<style scoped>\n",
       "    .dataframe tbody tr th:only-of-type {\n",
       "        vertical-align: middle;\n",
       "    }\n",
       "\n",
       "    .dataframe tbody tr th {\n",
       "        vertical-align: top;\n",
       "    }\n",
       "\n",
       "    .dataframe thead th {\n",
       "        text-align: right;\n",
       "    }\n",
       "</style>\n",
       "<table border=\"1\" class=\"dataframe\">\n",
       "  <thead>\n",
       "    <tr style=\"text-align: right;\">\n",
       "      <th></th>\n",
       "      <th>words</th>\n",
       "      <th>number</th>\n",
       "      <th>ipm</th>\n",
       "    </tr>\n",
       "  </thead>\n",
       "  <tbody>\n",
       "    <tr>\n",
       "      <th>0</th>\n",
       "      <td>total</td>\n",
       "      <td>582331</td>\n",
       "      <td></td>\n",
       "    </tr>\n",
       "    <tr>\n",
       "      <th>1</th>\n",
       "      <td>albus</td>\n",
       "      <td>99</td>\n",
       "      <td>170.006</td>\n",
       "    </tr>\n",
       "    <tr>\n",
       "      <th>2</th>\n",
       "      <td>candidus</td>\n",
       "      <td>102</td>\n",
       "      <td>175.158</td>\n",
       "    </tr>\n",
       "  </tbody>\n",
       "</table>\n",
       "</div>"
      ],
      "text/plain": [
       "      words  number      ipm\n",
       "0     total  582331         \n",
       "1     albus      99  170.006\n",
       "2  candidus     102  175.158"
      ]
     },
     "execution_count": 33,
     "metadata": {},
     "output_type": "execute_result"
    }
   ],
   "source": [
    "poetry_dict = {'words': ['total', 'albus', 'candidus'], 'number': [total_poet, a2, c2], 'ipm': ['', (a2/total_poet)*1000000, (c2/total_poet)*1000000]}\n",
    "poetry_df = pd.DataFrame(poetry_dict)\n",
    "\n",
    "poetry_df"
   ]
  },
  {
   "cell_type": "code",
   "execution_count": 25,
   "metadata": {},
   "outputs": [],
   "source": [
    "import matplotlib.pyplot as plt"
   ]
  },
  {
   "cell_type": "code",
   "execution_count": 30,
   "metadata": {},
   "outputs": [
    {
     "data": {
      "image/png": "[encoded data removed]",
      "text/plain": [
       "<Figure size 432x288 with 1 Axes>"
      ]
     },
     "metadata": {
      "needs_background": "light"
     },
     "output_type": "display_data"
    }
   ],
   "source": [
    "X = [1, 2]\n",
    "X2 = [3, 4]\n",
    "Y = [a, c]\n",
    "Y2 = [a2, c2]\n",
    "word = [' a in prose ', ' c in prose ', ' a in poetry ', ' c in poetry ']\n",
    "plt.bar(X, Y, color='blue')\n",
    "plt.bar(X2, Y2, color='red')\n",
    "plt.xticks(ticks=X+X2, labels=word)\n",
    "plt.title('albus vs candidus в поэзии и прозе')\n",
    "plt.ylabel('количество')\n",
    "plt.xlabel('albus & candidus')\n",
    "plt.show()"
   ]
  },
  {
   "cell_type": "code",
   "execution_count": 35,
   "metadata": {},
   "outputs": [
    {
     "data": {
      "image/png": "[encoded data removed]",
      "text/plain": [
       "<Figure size 432x288 with 1 Axes>"
      ]
     },
     "metadata": {
      "needs_background": "light"
     },
     "output_type": "display_data"
    }
   ],
   "source": [
    "X = [1, 2]\n",
    "X2 = [3, 4]\n",
    "Y = [(a/total_pr)*1000000, (c/total_pr)*1000000]\n",
    "Y2 = [(a2/total_poet)*1000000, (c2/total_poet)*1000000]\n",
    "word = [' a in prose ', ' c in prose ', ' a in poetry ', ' c in poetry ']\n",
    "plt.bar(X, Y, color='pink')\n",
    "plt.bar(X2, Y2, color='grey')\n",
    "plt.xticks(ticks=X+X2, labels=word)\n",
    "plt.title('albus vs candidus - ipm')\n",
    "plt.ylabel('ipm')\n",
    "plt.xlabel('albus & candidus')\n",
    "plt.show()"
   ]
  },
  {
   "cell_type": "code",
   "execution_count": null,
   "metadata": {},
   "outputs": [],
   "source": []
  }
 ],
 "metadata": {
  "kernelspec": {
   "display_name": "Python 3",
   "language": "python",
   "name": "python3"
  },
  "language_info": {
   "codemirror_mode": {
    "name": "ipython",
    "version": 3
   },
   "file_extension": ".py",
   "mimetype": "text/x-python",
   "name": "python",
   "nbconvert_exporter": "python",
   "pygments_lexer": "ipython3",
   "version": "3.7.3"
  }
 },
 "nbformat": 4,
 "nbformat_minor": 2
}
